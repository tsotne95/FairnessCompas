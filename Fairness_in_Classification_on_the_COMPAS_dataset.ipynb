{
 "cells": [
  {
   "cell_type": "markdown",
   "metadata": {
    "colab_type": "text",
    "id": "R3V00rCVmrnY"
   },
   "source": [
    "## Introduction"
   ]
  },
  {
   "cell_type": "markdown",
   "metadata": {
    "colab_type": "text",
    "id": "pz1reiXgmwAT"
   },
   "source": [
    "In this project, we aim to work on given dataset of COMPAS dataset, published by ProPublica. The goal is that we tried to make the prediction fair since we gonna work with some sensitive data such as Race."
   ]
  },
  {
   "cell_type": "markdown",
   "metadata": {
    "colab_type": "text",
    "id": "h4rolh2onaOO"
   },
   "source": [
    "## Load the dataset"
   ]
  },
  {
   "cell_type": "code",
   "execution_count": 1,
   "metadata": {
    "colab": {
     "base_uri": "https://localhost:8080/",
     "height": 119
    },
    "colab_type": "code",
    "id": "9sYi2RLn5ATA",
    "outputId": "28c3ad5e-2354-4a57-d3a7-8b947edc4ac5"
   },
   "outputs": [
    {
     "name": "stdout",
     "output_type": "stream",
     "text": [
      "Looking for file in the current directory...\n",
      "File found in current directory..\n",
      "Original Entries in dataset\n",
      "(7214, 53)\n",
      "Valid Entries in dataset\n",
      "(6172, 53)\n"
     ]
    }
   ],
   "source": [
    "from __future__ import division\n",
    "import urllib\n",
    "import os,sys\n",
    "import numpy as np\n",
    "import pandas as pd\n",
    "\n",
    "from sklearn import feature_extraction\n",
    "from sklearn import preprocessing\n",
    "from random import seed, shuffle\n",
    "\n",
    "from collections import defaultdict\n",
    "#import utils as ut\n",
    "\n",
    "SEED = 1234\n",
    "seed(SEED)\n",
    "np.random.seed(SEED)\n",
    "\n",
    "def check_data_file(fname):\n",
    "    files = os.listdir(\".\") # get the current directory listing\n",
    "    print(\"Looking for file in the current directory...\")\n",
    "\n",
    "    if fname not in files:\n",
    "        print(\" file not found! Downloading from GitHub...\")\n",
    "        addr = \"https://raw.githubusercontent.com/propublica/compas-analysis/master/compas-scores-two-years.csv\"\n",
    "        response = urllib.request.urlopen(addr)\n",
    "        data = response.read()\n",
    "        fileOut = open(fname, \"wb\")\n",
    "        fileOut.write(data)\n",
    "        fileOut.close()\n",
    "        print(\"download and saved locally..\")\n",
    "    else:\n",
    "        print(\"File found in current directory..\")\n",
    "    \n",
    "COMPAS_INPUT_FILE = \"compas-scores-two-years.csv\"\n",
    "check_data_file(COMPAS_INPUT_FILE)  \n",
    "\n",
    "\n",
    "#read file using panda and drop out the missing val\n",
    "\n",
    "'''\n",
    "If the charge date of a defendants Compas scored crime was not within 30 days from when the person was arrested, \n",
    "assume that because of data quality reasons, that we do not have the right offense.\n",
    "    \n",
    "the recidivist flag -- is_recid -- to be -1 if not find a compas case at all.\n",
    "    \n",
    "In a similar vein, ordinary traffic offenses -- those with a df of 'O' -- will not result in Jail time are removed.\n",
    "\n",
    "filtered the underlying data from Broward county to include only those rows representing people who had either\n",
    "recidivated in two years, or had at least two years outside of a correctional facility.\n",
    "\n",
    "remove rows where there is no score_text ('N/A')\n",
    "\n",
    "'''\n",
    "\n",
    "\n",
    "df = pd.read_csv(COMPAS_INPUT_FILE)\n",
    "print(\"Original Entries in dataset\")\n",
    "print(df.shape)\n",
    "\n",
    "df = df.dropna(subset=[\"days_b_screening_arrest\"]) # dropping missing vals\n",
    "df = df[(df.days_b_screening_arrest <= 30) & (df.days_b_screening_arrest >= -30) & (df.is_recid != -1) & (df.c_charge_degree != 'O') & (df.score_text != 'N/A') ]\n",
    "df.reset_index(inplace=True, drop=True) # renumber the rows from 0 again\n",
    "\n",
    "print(\"Valid Entries in dataset\")\n",
    "print(df.shape)\n",
    "#print(df) #2x2 vector"
   ]
  },
  {
   "cell_type": "markdown",
   "metadata": {
    "colab_type": "text",
    "id": "rguQ3j_G49OP"
   },
   "source": [
    "## Dataset Exploration"
   ]
  },
  {
   "cell_type": "code",
   "execution_count": 2,
   "metadata": {
    "colab": {
     "base_uri": "https://localhost:8080/",
     "height": 1000
    },
    "colab_type": "code",
    "id": "QZKdG1iE7dut",
    "outputId": "b98d00ef-5cdf-4de4-f374-fbb8b077135e"
   },
   "outputs": [
    {
     "name": "stdout",
     "output_type": "stream",
     "text": [
      "Features in the dataset\n",
      "Index(['id', 'name', 'first', 'last', 'compas_screening_date', 'sex', 'dob',\n",
      "       'age', 'age_cat', 'race', 'juv_fel_count', 'decile_score',\n",
      "       'juv_misd_count', 'juv_other_count', 'priors_count',\n",
      "       'days_b_screening_arrest', 'c_jail_in', 'c_jail_out', 'c_case_number',\n",
      "       'c_offense_date', 'c_arrest_date', 'c_days_from_compas',\n",
      "       'c_charge_degree', 'c_charge_desc', 'is_recid', 'r_case_number',\n",
      "       'r_charge_degree', 'r_days_from_arrest', 'r_offense_date',\n",
      "       'r_charge_desc', 'r_jail_in', 'r_jail_out', 'violent_recid',\n",
      "       'is_violent_recid', 'vr_case_number', 'vr_charge_degree',\n",
      "       'vr_offense_date', 'vr_charge_desc', 'type_of_assessment',\n",
      "       'decile_score.1', 'score_text', 'screening_date',\n",
      "       'v_type_of_assessment', 'v_decile_score', 'v_score_text',\n",
      "       'v_screening_date', 'in_custody', 'out_custody', 'priors_count.1',\n",
      "       'start', 'end', 'event', 'two_year_recid'],\n",
      "      dtype='object')\n",
      "First 20 rows in dataset\n",
      "    id                 name       first       last compas_screening_date  \\\n",
      "0    1     miguel hernandez      miguel  hernandez            2013-08-14   \n",
      "1    3          kevon dixon       kevon      dixon            2013-01-27   \n",
      "2    4             ed philo          ed      philo            2013-04-14   \n",
      "3    7         marsha miles      marsha      miles            2013-11-30   \n",
      "4    8        edward riddle      edward     riddle            2014-02-19   \n",
      "5    9       steven stewart      steven    stewart            2013-08-30   \n",
      "6   10     elizabeth thieme   elizabeth     thieme            2014-03-16   \n",
      "7   14       benjamin franc    benjamin      franc            2013-11-26   \n",
      "8   15       ellyaher lanza    ellyaher      lanza            2013-10-03   \n",
      "9   16      kortney coleman     kortney    coleman            2013-01-01   \n",
      "10  18         jarrod turbe      jarrod      turbe            2013-10-09   \n",
      "11  19        craig gilbert       craig    gilbert            2013-10-30   \n",
      "12  20      samuel seraphin      samuel   seraphin            2014-06-03   \n",
      "13  21      mario hernandez       mario  hernandez            2014-03-24   \n",
      "14  22       darrious davis    darrious      davis            2013-12-22   \n",
      "15  23         neil heckart        neil    heckart            2013-11-17   \n",
      "16  24          michael lux     michael        lux            2014-11-15   \n",
      "17  25      columbus wilson    columbus     wilson            2014-05-02   \n",
      "18  26  vandivuiet williams  vandivuiet   williams            2013-04-18   \n",
      "19  27         nelson avalo      nelson      avalo            2014-10-16   \n",
      "\n",
      "       sex         dob  age          age_cat              race  ...  \\\n",
      "0     Male  1947-04-18   69  Greater than 45             Other  ...   \n",
      "1     Male  1982-01-22   34          25 - 45  African-American  ...   \n",
      "2     Male  1991-05-14   24     Less than 25  African-American  ...   \n",
      "3     Male  1971-08-22   44          25 - 45             Other  ...   \n",
      "4     Male  1974-07-23   41          25 - 45         Caucasian  ...   \n",
      "5     Male  1973-02-25   43          25 - 45             Other  ...   \n",
      "6   Female  1976-06-03   39          25 - 45         Caucasian  ...   \n",
      "7     Male  1988-06-01   27          25 - 45         Caucasian  ...   \n",
      "8     Male  1992-08-18   23     Less than 25  African-American  ...   \n",
      "9   Female  1978-08-22   37          25 - 45         Caucasian  ...   \n",
      "10    Male  1974-12-02   41          25 - 45  African-American  ...   \n",
      "11  Female  1968-06-14   47  Greater than 45         Caucasian  ...   \n",
      "12    Male  1985-03-25   31          25 - 45  African-American  ...   \n",
      "13    Male  1979-01-25   37          25 - 45          Hispanic  ...   \n",
      "14    Male  1990-06-22   25          25 - 45  African-American  ...   \n",
      "15    Male  1984-12-24   31          25 - 45         Caucasian  ...   \n",
      "16    Male  1985-01-08   31          25 - 45         Caucasian  ...   \n",
      "17    Male  1951-06-28   64  Greater than 45  African-American  ...   \n",
      "18    Male  1994-11-29   21     Less than 25  African-American  ...   \n",
      "19    Male  1988-08-06   27          25 - 45         Caucasian  ...   \n",
      "\n",
      "    v_decile_score  v_score_text  v_screening_date  in_custody  out_custody  \\\n",
      "0                1           Low        2013-08-14  2014-07-07   2014-07-14   \n",
      "1                1           Low        2013-01-27  2013-01-26   2013-02-05   \n",
      "2                3           Low        2013-04-14  2013-06-16   2013-06-16   \n",
      "3                1           Low        2013-11-30  2013-11-30   2013-12-01   \n",
      "4                2           Low        2014-02-19  2014-03-31   2014-04-18   \n",
      "5                3           Low        2013-08-30  2014-05-22   2014-06-03   \n",
      "6                1           Low        2014-03-16  2014-03-15   2014-03-18   \n",
      "7                4           Low        2013-11-26  2013-11-25   2013-11-26   \n",
      "8                4           Low        2013-10-03  2013-10-03   2013-10-07   \n",
      "9                1           Low        2013-01-01  2013-01-01   2013-01-02   \n",
      "10               2           Low        2013-10-09  2013-10-08   2013-10-09   \n",
      "11               1           Low        2013-10-30  2014-06-03   2014-11-19   \n",
      "12               2           Low        2014-06-03  2014-06-25   2014-06-28   \n",
      "13               1           Low        2014-03-24  2014-03-24   2014-03-24   \n",
      "14               9          High        2013-12-22  2015-03-30   2015-05-31   \n",
      "15               4           Low        2013-11-17  2013-11-16   2013-11-17   \n",
      "16               2           Low        2014-11-15  2016-02-16   2016-03-18   \n",
      "17               3           Low        2014-05-02  2014-05-03   2014-05-04   \n",
      "18               9          High        2013-04-18  2013-05-18   2013-05-19   \n",
      "19               3           Low        2014-10-16  2014-10-16   2014-10-16   \n",
      "\n",
      "    priors_count.1 start   end event two_year_recid  \n",
      "0                0     0   327     0              0  \n",
      "1                0     9   159     1              1  \n",
      "2                4     0    63     0              1  \n",
      "3                0     1   853     0              0  \n",
      "4               14     5    40     1              1  \n",
      "5                3     0   265     0              0  \n",
      "6                0     2   747     0              0  \n",
      "7                0     0   857     0              0  \n",
      "8                3     4   128     1              1  \n",
      "9                0     1  1186     0              0  \n",
      "10               0     0   905     0              0  \n",
      "11               1     0   216     1              1  \n",
      "12               7     0    22     1              1  \n",
      "13               0     0   739     0              0  \n",
      "14               3     0   463     0              0  \n",
      "15               6     0   241     1              1  \n",
      "16               5     0   163     1              1  \n",
      "17              13     0     1     1              1  \n",
      "18               1     2    30     1              1  \n",
      "19               0     0    81     1              1  \n",
      "\n",
      "[20 rows x 53 columns]\n",
      "Difference Race in Dataset\n",
      "{'Asian', 'Hispanic', 'African-American', 'Caucasian', 'Native American', 'Other'} \n",
      "\n",
      "Difference Gender in Dataset\n",
      "{'Male', 'Female'} \n",
      "\n",
      "Difference Age in Dataset\n",
      "{18, 19, 20, 21, 22, 23, 24, 25, 26, 27, 28, 29, 30, 31, 32, 33, 34, 35, 36, 37, 38, 39, 40, 41, 42, 43, 44, 45, 46, 47, 48, 49, 50, 51, 52, 53, 54, 55, 56, 57, 58, 59, 60, 61, 62, 63, 64, 65, 66, 67, 68, 69, 70, 71, 72, 73, 74, 75, 76, 77, 78, 79, 80, 83, 96} \n",
      "\n",
      "Number of People by Age\n",
      "age_cat\n",
      "25 - 45            3532\n",
      "Greater than 45    1293\n",
      "Less than 25       1347\n",
      "Name: age, dtype: int64 \n",
      "\n",
      "Number of People by Race\n",
      "race\n",
      "African-American    3175\n",
      "Asian                 31\n",
      "Caucasian           2103\n",
      "Hispanic             509\n",
      "Native American       11\n",
      "Other                343\n",
      "Name: race, dtype: int64 \n",
      "\n",
      "Number of People by Compas Score\n",
      "decile_score\n",
      "1     1286\n",
      "2      822\n",
      "3      647\n",
      "4      666\n",
      "5      582\n",
      "6      529\n",
      "7      496\n",
      "8      420\n",
      "9      420\n",
      "10     304\n",
      "Name: decile_score, dtype: int64 \n",
      "\n",
      "Number of People by Risk\n",
      "score_text\n",
      "High      1144\n",
      "Low       3421\n",
      "Medium    1607\n",
      "Name: score_text, dtype: int64 \n",
      "\n",
      "Sex and Race\n",
      "race    African-American  Asian  Caucasian  Hispanic  Native American  Other\n",
      "sex                                                                         \n",
      "Female               549      2        482        82                2     58\n",
      "Male                2626     29       1621       427                9    285 \n",
      "\n",
      "Decile score and Race\n",
      "race          African-American  Asian  Caucasian  Hispanic  Native American  \\\n",
      "decile_score                                                                  \n",
      "1                          365     15        605       159                0   \n",
      "2                          346      4        321        89                2   \n",
      "3                          298      5        238        73                1   \n",
      "4                          337      0        243        47                0   \n",
      "5                          323      1        200        39                0   \n",
      "6                          318      2        160        27                2   \n",
      "7                          343      1        113        28                2   \n",
      "8                          301      2         96        14                0   \n",
      "9                          317      0         77        17                2   \n",
      "10                         227      1         50        16                2   \n",
      "\n",
      "race          Other  \n",
      "decile_score         \n",
      "1               142  \n",
      "2                60  \n",
      "3                32  \n",
      "4                39  \n",
      "5                19  \n",
      "6                20  \n",
      "7                 9  \n",
      "8                 7  \n",
      "9                 7  \n",
      "10                8   \n",
      "\n",
      "African-American: 51.44%\n",
      "Asian: 0.50%\n",
      "Caucasian: 34.07%\n",
      "Hispanic: 8.25%\n",
      "Native American: 0.18%\n",
      "Other: 5.56% \n",
      "\n",
      "Male      4997\n",
      "Female    1175\n",
      "Name: sex, dtype: int64 \n",
      "\n",
      "Men: 80.96%\n",
      "Women: 19.04% \n",
      "\n"
     ]
    }
   ],
   "source": [
    "print(\"Features in the dataset\")\n",
    "print(df.columns)\n",
    "\n",
    "print(\"First 20 rows in dataset\")\n",
    "print(df.head(20))\n",
    "\n",
    "print(\"Difference Race in Dataset\")\n",
    "races=set(df.race)\n",
    "print(races,\"\\n\") \n",
    "\n",
    "print(\"Difference Gender in Dataset\")\n",
    "gender=set(df.sex)\n",
    "print(gender,\"\\n\")\n",
    "\n",
    "print(\"Difference Age in Dataset\")\n",
    "ages=set(df.age)\n",
    "print(ages,\"\\n\")\n",
    "\n",
    "print(\"Number of People by Age\")\n",
    "print(df.groupby('age_cat')['age'].count(),'\\n')\n",
    "\n",
    "print(\"Number of People by Race\")\n",
    "print(df.groupby('race')['race'].count(),'\\n')\n",
    "\n",
    "print(\"Number of People by Compas Score\")\n",
    "print(df.groupby('decile_score')['decile_score'].count(),'\\n')\n",
    "\n",
    "print(\"Number of People by Risk\")\n",
    "print(df.groupby('score_text')['score_text'].count(),'\\n')\n",
    "\n",
    "#by sex and race\n",
    "print(\"Sex and Race\")\n",
    "print(pd.crosstab(df['sex'], df['race']),'\\n')\n",
    "\n",
    "#by score and race\n",
    "print(\"Decile score and Race\")\n",
    "print(pd.crosstab(df['decile_score'], df['race']),'\\n')\n",
    "\n",
    "#by deferant\n",
    "print(\"African-American: %.2f%%\" %            (3175 / 6172 * 100))\n",
    "print(\"Asian: %.2f%%\" %            (31 / 6172 * 100))\n",
    "print(\"Caucasian: %.2f%%\" %         (2103  / 6172 * 100))\n",
    "print(\"Hispanic: %.2f%%\" %            (509   / 6172 * 100))\n",
    "print(\"Native American: %.2f%%\" %  (11   / 6172 * 100))\n",
    "print(\"Other: %.2f%%\" %  (343   / 6172 * 100),'\\n')\n",
    "\n",
    "#by gender\n",
    "print(df['sex'].value_counts(),'\\n')\n",
    "print(\"Men: %.2f%%\" %   (4997 / 6172 * 100))\n",
    "print(\"Women: %.2f%%\" % (1175 / 6172 * 100),'\\n')"
   ]
  },
  {
   "cell_type": "code",
   "execution_count": 3,
   "metadata": {
    "colab": {
     "base_uri": "https://localhost:8080/",
     "height": 272
    },
    "colab_type": "code",
    "id": "on51MxBdAO6-",
    "outputId": "6cd2850f-fa5a-4b25-d905-5d39a8aad18e"
   },
   "outputs": [
    {
     "name": "stdout",
     "output_type": "stream",
     "text": [
      "Mean of Decile_score based on Race and Sex\n",
      "race              sex   \n",
      "African-American  Female    4.639344\n",
      "                  Male      5.410129\n",
      "Asian             Female    2.000000\n",
      "                  Male      2.896552\n",
      "Caucasian         Female    3.792531\n",
      "                  Male      3.588526\n",
      "Hispanic          Female    2.682927\n",
      "                  Male      3.517564\n",
      "Native American   Female    8.500000\n",
      "                  Male      6.000000\n",
      "Other             Female    2.741379\n",
      "                  Male      2.919298\n",
      "Name: decile_score, dtype: float64\n"
     ]
    }
   ],
   "source": [
    "print(\"Mean of Decile_score based on Race and Sex\")\n",
    "print(df.groupby(['race','sex'])['decile_score'].mean())"
   ]
  },
  {
   "cell_type": "code",
   "execution_count": 4,
   "metadata": {
    "colab": {
     "base_uri": "https://localhost:8080/",
     "height": 520
    },
    "colab_type": "code",
    "id": "oCvskXlZAQ-y",
    "outputId": "ea2bf094-1be3-49ea-cb56-ddf69436ba79"
   },
   "outputs": [
    {
     "name": "stdout",
     "output_type": "stream",
     "text": [
      "Hist of Decile_score based on Race and Sex\n"
     ]
    },
    {
     "data": {
      "text/plain": [
       "race              sex   \n",
       "African-American  Female    AxesSubplot(0.125,0.125;0.775x0.755)\n",
       "                  Male      AxesSubplot(0.125,0.125;0.775x0.755)\n",
       "Asian             Female    AxesSubplot(0.125,0.125;0.775x0.755)\n",
       "                  Male      AxesSubplot(0.125,0.125;0.775x0.755)\n",
       "Caucasian         Female    AxesSubplot(0.125,0.125;0.775x0.755)\n",
       "                  Male      AxesSubplot(0.125,0.125;0.775x0.755)\n",
       "Hispanic          Female    AxesSubplot(0.125,0.125;0.775x0.755)\n",
       "                  Male      AxesSubplot(0.125,0.125;0.775x0.755)\n",
       "Native American   Female    AxesSubplot(0.125,0.125;0.775x0.755)\n",
       "                  Male      AxesSubplot(0.125,0.125;0.775x0.755)\n",
       "Other             Female    AxesSubplot(0.125,0.125;0.775x0.755)\n",
       "                  Male      AxesSubplot(0.125,0.125;0.775x0.755)\n",
       "Name: decile_score, dtype: object"
      ]
     },
     "execution_count": 4,
     "metadata": {},
     "output_type": "execute_result"
    },
    {
     "data": {
      "image/png": "[encoded data removed]",
      "text/plain": [
       "<Figure size 432x288 with 1 Axes>"
      ]
     },
     "metadata": {
      "needs_background": "light"
     },
     "output_type": "display_data"
    }
   ],
   "source": [
    "print(\"Hist of Decile_score based on Race and Sex\")\n",
    "df.groupby(['race','sex'])['decile_score'].hist()"
   ]
  },
  {
   "cell_type": "code",
   "execution_count": 5,
   "metadata": {
    "colab": {
     "base_uri": "https://localhost:8080/",
     "height": 315
    },
    "colab_type": "code",
    "id": "5GdSWVIcaZyu",
    "outputId": "f6ecb9e3-ead1-4bfc-f2bb-a4e2d16f02ed"
   },
   "outputs": [
    {
     "name": "stdout",
     "output_type": "stream",
     "text": [
      "Histogram of decile scores for White\n"
     ]
    },
    {
     "data": {
      "text/plain": [
       "<matplotlib.axes._subplots.AxesSubplot at 0x7f261882e048>"
      ]
     },
     "execution_count": 5,
     "metadata": {},
     "output_type": "execute_result"
    },
    {
     "data": {
      "image/png": "[encoded data removed]",
      "text/plain": [
       "<Figure size 432x288 with 1 Axes>"
      ]
     },
     "metadata": {
      "needs_background": "light"
     },
     "output_type": "display_data"
    }
   ],
   "source": [
    "print('Histogram of decile scores for White')\n",
    "df[df.race == 'Caucasian']['decile_score'].plot(kind='hist', title='White Defendant\\'s Decile Scores ')"
   ]
  },
  {
   "cell_type": "code",
   "execution_count": 6,
   "metadata": {
    "colab": {
     "base_uri": "https://localhost:8080/",
     "height": 315
    },
    "colab_type": "code",
    "id": "gQpkeiXtbDj8",
    "outputId": "1773f324-293d-40fa-8d7f-930b951b5232"
   },
   "outputs": [
    {
     "name": "stdout",
     "output_type": "stream",
     "text": [
      "Histogram of decile scores for Black\n"
     ]
    },
    {
     "data": {
      "text/plain": [
       "<matplotlib.axes._subplots.AxesSubplot at 0x7f26183254a8>"
      ]
     },
     "execution_count": 6,
     "metadata": {},
     "output_type": "execute_result"
    },
    {
     "data": {
      "image/png": "[encoded data removed]",
      "text/plain": [
       "<Figure size 432x288 with 1 Axes>"
      ]
     },
     "metadata": {
      "needs_background": "light"
     },
     "output_type": "display_data"
    }
   ],
   "source": [
    "print('Histogram of decile scores for Black')\n",
    "df[df.race == 'African-American']['decile_score'].plot(kind='hist', title='Black Defendant\\'s Decile Scores ')"
   ]
  },
  {
   "cell_type": "code",
   "execution_count": 7,
   "metadata": {
    "colab": {
     "base_uri": "https://localhost:8080/",
     "height": 391
    },
    "colab_type": "code",
    "id": "VyVWprSFATGq",
    "outputId": "8a0e706a-6652-409d-e95f-ba7370f32cb5"
   },
   "outputs": [
    {
     "name": "stdout",
     "output_type": "stream",
     "text": [
      "Total People in the dataset\n",
      "6172 \n",
      "\n",
      "People were re-arrested\n",
      "2809\n",
      "45.51% \n",
      "\n",
      "People got re-arrested by age and gender\n",
      "race              sex   \n",
      "African-American  Female     203\n",
      "                  Male      1458\n",
      "Asian             Female       1\n",
      "                  Male         7\n",
      "Caucasian         Female     170\n",
      "                  Male       652\n",
      "Hispanic          Female      26\n",
      "                  Male       163\n",
      "Native American   Female       2\n",
      "                  Male         3\n",
      "Other             Female      11\n",
      "                  Male       113\n",
      "Name: two_year_recid, dtype: int64\n"
     ]
    }
   ],
   "source": [
    "print(\"Total People in the dataset\")\n",
    "print(df.shape[0],'\\n')\n",
    "\n",
    "print(\"People were re-arrested\")\n",
    "print(df['two_year_recid'].sum())\n",
    "print(\"%.2f%%\" % (df['two_year_recid'].sum()/len(df)*100),'\\n')\n",
    "\n",
    "print(\"People got re-arrested by age and gender\")\n",
    "print(df.groupby(['race','sex'])['two_year_recid'].sum())"
   ]
  },
  {
   "cell_type": "markdown",
   "metadata": {
    "colab_type": "text",
    "id": "xR1nZUnNRBnM"
   },
   "source": [
    "## Flatten the dataset\n"
   ]
  },
  {
   "cell_type": "code",
   "execution_count": 8,
   "metadata": {
    "colab": {},
    "colab_type": "code",
    "id": "_shHyL1ZSB3K"
   },
   "outputs": [],
   "source": [
    "FEATURES_CLASS = [\"age_cat\", \"race\", \"sex\", \"priors_count\", \"c_charge_degree\"] \n",
    "CONTI_FEATURE = [\"priors_count\"] # continuous features, will need to be handled separately from categorical features, categorical features will be encoded using one-hot\n",
    "CLASS_FEATURE = \"two_year_recid\" # the classifier variable\n",
    "SENSITIVE_FEATURE = \"race\""
   ]
  },
  {
   "cell_type": "code",
   "execution_count": 9,
   "metadata": {
    "colab": {},
    "colab_type": "code",
    "id": "fU46ETSvRLKn"
   },
   "outputs": [],
   "source": [
    "#Convert to NP Array\n",
    "data = df.to_dict('list')\n",
    "for k in data.keys():\n",
    "\t\tdata[k] = np.array(data[k])"
   ]
  },
  {
   "cell_type": "code",
   "execution_count": 10,
   "metadata": {
    "colab": {
     "base_uri": "https://localhost:8080/",
     "height": 241
    },
    "colab_type": "code",
    "id": "UEw-rofnRRlZ",
    "outputId": "a9dc779b-5b73-44e5-9327-931991ed3cc3"
   },
   "outputs": [
    {
     "name": "stdout",
     "output_type": "stream",
     "text": [
      "\n",
      "Number of people recidivating within two years\n",
      "-1    3363\n",
      " 1    2809\n",
      "dtype: int64\n",
      "\n",
      "\n",
      "(6172, 0)\n",
      "{'race': array([0, 0, 0, ..., 1, 0, 0])}\n",
      "(6172, 12)\n",
      "(6172,)\n",
      "['age_cat_25 - 45', 'age_cat_Greater than 45', 'age_cat_Less than 25', 'race_African-American', 'race_Asian', 'race_Caucasian', 'race_Hispanic', 'race_Native American', 'race_Other', 'sex', 'priors_count', 'c_charge_degree']\n"
     ]
    }
   ],
   "source": [
    "#Normalize the feature\n",
    "\n",
    "# convert class label 0 to -1\n",
    "y = data[CLASS_FEATURE]\n",
    "y[y==0] = -1\n",
    "\n",
    "\n",
    "print (\"\\nNumber of people recidivating within two years\")\n",
    "print (pd.Series(y).value_counts()) #-1 mean were not rearrested\n",
    "print (\"\\n\")\n",
    "\n",
    "X = np.array([]).reshape(len(y), 0) # empty array with num rows same as num examples, will hstack the features to it\n",
    "print(X.shape)\n",
    "x_control = defaultdict(list)\n",
    "\n",
    "\n",
    "feature_names = []\n",
    "\n",
    "for attr in FEATURES_CLASS:\n",
    "\t\tvals = data[attr]\n",
    "\t\tif attr in CONTI_FEATURE:\n",
    "\t\t\tvals = [float(v) for v in vals]\n",
    "\t\t\tvals = preprocessing.scale(vals) # 0 mean and 1 variance  \n",
    "\t\t\tvals = np.reshape(vals, (len(y), -1)) # convert from 1-d arr to a 2-d arr with one col\n",
    "\n",
    "\t\telse: # for binary categorical variables, the label binarizer uses just one var instead of two\n",
    "\t\t\tlb = preprocessing.LabelBinarizer()\n",
    "\t\t\tlb.fit(vals)\n",
    "\t\t\tvals = lb.transform(vals)\n",
    "\n",
    "\t\t# add to sensitive features dict\n",
    "\t\tif attr in SENSITIVE_FEATURE:\n",
    "\t\t\tx_control[attr] = vals\n",
    "\n",
    "\n",
    "\t\t# add to learnable features\n",
    "\t\tX = np.hstack((X, vals))\n",
    "\n",
    "\t\tif attr in CONTI_FEATURE: # continuous feature, just append the name\n",
    "\t\t\tfeature_names.append(attr)\n",
    "\t\telse: # categorical features\n",
    "\t\t\tif vals.shape[1] == 1: # binary features that passed through lib binarizer\n",
    "\t\t\t\tfeature_names.append(attr)\n",
    "\t\t\telse:\n",
    "\t\t\t\tfor k in lb.classes_: # non-binary categorical features, need to add the names for each cat\n",
    "\t\t\t\t\tfeature_names.append(attr + \"_\" + str(k))\n",
    "\n",
    "\n",
    "# convert the sensitive feature to 1-d array\n",
    "x_control = dict(x_control)\n",
    "for k in x_control.keys():\n",
    "\t\t#assert(x_control[k].shape[1] == 1) # make sure that the sensitive feature is binary after one hot encoding\n",
    "\t\tx_control[k] = np.array(x_control[k]).flatten()\n",
    "\t\n",
    "print(x_control)\n",
    "print(X.shape)\n",
    "print(y.shape)\n",
    "print(feature_names)"
   ]
  },
  {
   "cell_type": "markdown",
   "metadata": {
    "colab_type": "text",
    "id": "k06Y56b_15aA"
   },
   "source": [
    "## Standard Classifier"
   ]
  },
  {
   "cell_type": "markdown",
   "metadata": {
    "colab_type": "text",
    "id": "Eggb2MBfvMW7"
   },
   "source": [
    "### Define some function"
   ]
  },
  {
   "cell_type": "code",
   "execution_count": 11,
   "metadata": {
    "colab": {},
    "colab_type": "code",
    "id": "caLp739UuwHJ"
   },
   "outputs": [],
   "source": [
    "#define helper funcs\n",
    "def print_ppv_fpv(cm):\n",
    "    # the indices here are [col][row] or [actual][guessed]\n",
    "    TN = cm[False][False]   \n",
    "    TP = cm[True][True]\n",
    "    FN = cm[True][False]\n",
    "    FP = cm[False][True]\n",
    "    print('Accuracy: ', (TN+TP)/(TN+TP+FN+FP))\n",
    "    print('PPV: ', TP / (TP + FP))\n",
    "    print('FPR: ', FP / (FP + TN))\n",
    "    print('FNR: ', FN / (FN + TP))\n",
    "    print()\n",
    "\n",
    "def print_metrics(guessed, actual):\n",
    "    cm = pd.crosstab(guessed, actual, rownames=['guessed'], colnames=['actual'])\n",
    "    print(cm)\n",
    "    print()\n",
    "    print_ppv_fpv(cm)"
   ]
  },
  {
   "cell_type": "markdown",
   "metadata": {
    "colab_type": "text",
    "id": "82A1sxhc_9zE"
   },
   "source": [
    "###Split into Test and Train.\n"
   ]
  },
  {
   "cell_type": "code",
   "execution_count": 12,
   "metadata": {
    "colab": {},
    "colab_type": "code",
    "id": "cLHmwwMeUtEY"
   },
   "outputs": [],
   "source": [
    "def my_split_into_train_test(x_all, y_all, x_control_all, train_size):\n",
    "\n",
    "    split_point = int(round(float(x_all.shape[0]) * train_size))\n",
    "    x_all_train = x_all[:split_point]\n",
    "    x_all_test = x_all[split_point:]\n",
    "    y_all_train = y_all[:split_point]\n",
    "    y_all_test = y_all[split_point:]\n",
    "    x_control_all_train = {}\n",
    "    x_control_all_test = {}\n",
    "    for k in x_control_all.keys():\n",
    "        x_control_all_train[k] = x_control_all[k][:split_point]\n",
    "        x_control_all_test[k] = x_control_all[k][split_point:]\n",
    "\n",
    "    return x_all_train, y_all_train, x_control_all_train, x_all_test, y_all_test, x_control_all_test"
   ]
  },
  {
   "cell_type": "code",
   "execution_count": 13,
   "metadata": {
    "colab": {},
    "colab_type": "code",
    "id": "1grmPT0YqJ3w"
   },
   "outputs": [],
   "source": [
    "def my_split (x_all,y_all,train_size):\n",
    "  split_point = int(round(float(x_all.shape[0]) * train_size))\n",
    "  x_all_train = x_all[:split_point]\n",
    "  x_all_test = x_all[split_point:]\n",
    "  y_all_train = y_all[:split_point]\n",
    "  y_all_test = y_all[split_point:]\n",
    "\n",
    "  return x_all_train, y_all_train, x_all_test, y_all_test"
   ]
  },
  {
   "cell_type": "code",
   "execution_count": 14,
   "metadata": {
    "colab": {},
    "colab_type": "code",
    "id": "YNUmBTRNQECq"
   },
   "outputs": [],
   "source": [
    "from sklearn.preprocessing import StandardScaler\n",
    "from sklearn.metrics import accuracy_score\n",
    "\n",
    "#x_train, y_train, x_control_train, x_test, y_test, x_control_test = my_split_into_train_test(X, y, x_control, 0.8)\n",
    "x_train, y_train, x_test, y_test = my_split(X,y,0.2)"
   ]
  },
  {
   "cell_type": "markdown",
   "metadata": {
    "colab_type": "text",
    "id": "i4gyUVqhrbMv"
   },
   "source": [
    "### MLP Classification"
   ]
  },
  {
   "cell_type": "code",
   "execution_count": 15,
   "metadata": {
    "colab": {
     "base_uri": "https://localhost:8080/",
     "height": 88
    },
    "colab_type": "code",
    "id": "epaISj1huA5I",
    "outputId": "d948bb54-5ae2-4569-8e80-60561d5b7762"
   },
   "outputs": [
    {
     "name": "stdout",
     "output_type": "stream",
     "text": [
      "Accuracy : 0.612798703928716\n"
     ]
    },
    {
     "name": "stderr",
     "output_type": "stream",
     "text": [
      "/home/tsotne/.local/lib/python3.6/site-packages/sklearn/neural_network/_multilayer_perceptron.py:571: ConvergenceWarning: Stochastic Optimizer: Maximum iterations (200) reached and the optimization hasn't converged yet.\n",
      "  % self.max_iter, ConvergenceWarning)\n"
     ]
    }
   ],
   "source": [
    "from sklearn.neural_network import MLPClassifier\n",
    "mlp_model = MLPClassifier(solver='sgd', alpha=1e-5,hidden_layer_sizes=(5, 2), random_state=1)\n",
    "mlp_model.fit(x_train,y_train)\n",
    "mlp_model_y=mlp_model.predict(x_test)\n",
    "print(\"Accuracy :\",accuracy_score(y_test, mlp_model_y))"
   ]
  },
  {
   "cell_type": "code",
   "execution_count": 16,
   "metadata": {
    "colab": {
     "base_uri": "https://localhost:8080/",
     "height": 142
    },
    "colab_type": "code",
    "id": "eYbXtc1OuGn3",
    "outputId": "84d66267-384d-4e06-e206-b297b7c6f0a4"
   },
   "outputs": [
    {
     "data": {
      "text/html": [
       "<div>\n",
       "<style scoped>\n",
       "    .dataframe tbody tr th:only-of-type {\n",
       "        vertical-align: middle;\n",
       "    }\n",
       "\n",
       "    .dataframe tbody tr th {\n",
       "        vertical-align: top;\n",
       "    }\n",
       "\n",
       "    .dataframe thead th {\n",
       "        text-align: right;\n",
       "    }\n",
       "</style>\n",
       "<table border=\"1\" class=\"dataframe\">\n",
       "  <thead>\n",
       "    <tr style=\"text-align: right;\">\n",
       "      <th>actual</th>\n",
       "      <th>False</th>\n",
       "      <th>True</th>\n",
       "    </tr>\n",
       "    <tr>\n",
       "      <th>guessed</th>\n",
       "      <th></th>\n",
       "      <th></th>\n",
       "    </tr>\n",
       "  </thead>\n",
       "  <tbody>\n",
       "    <tr>\n",
       "      <th>False</th>\n",
       "      <td>2468</td>\n",
       "      <td>1714</td>\n",
       "    </tr>\n",
       "    <tr>\n",
       "      <th>True</th>\n",
       "      <td>198</td>\n",
       "      <td>558</td>\n",
       "    </tr>\n",
       "  </tbody>\n",
       "</table>\n",
       "</div>"
      ],
      "text/plain": [
       "actual   False  True \n",
       "guessed              \n",
       "False     2468   1714\n",
       "True       198    558"
      ]
     },
     "execution_count": 16,
     "metadata": {},
     "output_type": "execute_result"
    }
   ],
   "source": [
    "guessed=pd.Series(mlp_model_y)==1\n",
    "actual=y_test==1\n",
    "\n",
    "cm = pd.crosstab(guessed, actual, rownames=['guessed'], colnames=['actual'])\n",
    "cm"
   ]
  },
  {
   "cell_type": "code",
   "execution_count": 17,
   "metadata": {
    "colab": {
     "base_uri": "https://localhost:8080/",
     "height": 102
    },
    "colab_type": "code",
    "id": "y9FwWbgfuIo6",
    "outputId": "20d7ccb1-eaa2-4510-a7b3-1a9873a26afe"
   },
   "outputs": [
    {
     "name": "stdout",
     "output_type": "stream",
     "text": [
      "Accuracy:  0.612798703928716\n",
      "PPV:  0.7380952380952381\n",
      "FPR:  0.07426856714178545\n",
      "FNR:  0.7544014084507042\n",
      "\n"
     ]
    }
   ],
   "source": [
    "print_ppv_fpv(cm)"
   ]
  },
  {
   "cell_type": "markdown",
   "metadata": {
    "colab_type": "text",
    "id": "t_btAb8Hr3gf"
   },
   "source": [
    "### Gussian NB Classification"
   ]
  },
  {
   "cell_type": "code",
   "execution_count": 18,
   "metadata": {
    "colab": {
     "base_uri": "https://localhost:8080/",
     "height": 34
    },
    "colab_type": "code",
    "id": "oNcNbD39ueMZ",
    "outputId": "14c48b49-e07f-42fe-c52d-b88e1277b675"
   },
   "outputs": [
    {
     "name": "stdout",
     "output_type": "stream",
     "text": [
      "Accuracy : 0.4631429728635075\n"
     ]
    }
   ],
   "source": [
    "#GuassianNB \n",
    "from sklearn.naive_bayes import GaussianNB\n",
    "gnb_model=GaussianNB()\n",
    "gnb_model.fit(x_train,y_train)\n",
    "gnb_ymodel=gnb_model.predict(x_test)\n",
    "print(\"Accuracy :\",accuracy_score(y_test, gnb_ymodel))"
   ]
  },
  {
   "cell_type": "code",
   "execution_count": 19,
   "metadata": {
    "colab": {
     "base_uri": "https://localhost:8080/",
     "height": 142
    },
    "colab_type": "code",
    "id": "zSySfKWfuqy5",
    "outputId": "31c97cf8-f7e2-4730-e2f9-eeb3ba423cea"
   },
   "outputs": [
    {
     "data": {
      "text/html": [
       "<div>\n",
       "<style scoped>\n",
       "    .dataframe tbody tr th:only-of-type {\n",
       "        vertical-align: middle;\n",
       "    }\n",
       "\n",
       "    .dataframe tbody tr th {\n",
       "        vertical-align: top;\n",
       "    }\n",
       "\n",
       "    .dataframe thead th {\n",
       "        text-align: right;\n",
       "    }\n",
       "</style>\n",
       "<table border=\"1\" class=\"dataframe\">\n",
       "  <thead>\n",
       "    <tr style=\"text-align: right;\">\n",
       "      <th>actual</th>\n",
       "      <th>False</th>\n",
       "      <th>True</th>\n",
       "    </tr>\n",
       "    <tr>\n",
       "      <th>guessed</th>\n",
       "      <th></th>\n",
       "      <th></th>\n",
       "    </tr>\n",
       "  </thead>\n",
       "  <tbody>\n",
       "    <tr>\n",
       "      <th>False</th>\n",
       "      <td>30</td>\n",
       "      <td>15</td>\n",
       "    </tr>\n",
       "    <tr>\n",
       "      <th>True</th>\n",
       "      <td>2636</td>\n",
       "      <td>2257</td>\n",
       "    </tr>\n",
       "  </tbody>\n",
       "</table>\n",
       "</div>"
      ],
      "text/plain": [
       "actual   False  True \n",
       "guessed              \n",
       "False       30     15\n",
       "True      2636   2257"
      ]
     },
     "execution_count": 19,
     "metadata": {},
     "output_type": "execute_result"
    }
   ],
   "source": [
    "guessed=pd.Series(gnb_ymodel)==1\n",
    "actual=y_test==1\n",
    "\n",
    "cm = pd.crosstab(guessed, actual, rownames=['guessed'], colnames=['actual'])\n",
    "cm"
   ]
  },
  {
   "cell_type": "code",
   "execution_count": 20,
   "metadata": {
    "colab": {
     "base_uri": "https://localhost:8080/",
     "height": 102
    },
    "colab_type": "code",
    "id": "17f5J_vYuygc",
    "outputId": "7a170976-97b8-4451-fc78-429406416d2b"
   },
   "outputs": [
    {
     "name": "stdout",
     "output_type": "stream",
     "text": [
      "Accuracy:  0.4631429728635075\n",
      "PPV:  0.46127120376047415\n",
      "FPR:  0.9887471867966992\n",
      "FNR:  0.006602112676056338\n",
      "\n"
     ]
    }
   ],
   "source": [
    "print_ppv_fpv(cm)"
   ]
  },
  {
   "cell_type": "markdown",
   "metadata": {
    "colab_type": "text",
    "id": "3GoSbK9Yr-t8"
   },
   "source": [
    "### SVM Classification"
   ]
  },
  {
   "cell_type": "code",
   "execution_count": 21,
   "metadata": {
    "colab": {
     "base_uri": "https://localhost:8080/",
     "height": 34
    },
    "colab_type": "code",
    "id": "qEXAVUv5vEES",
    "outputId": "58c1c2a9-b026-4937-bdf0-17e5ae181652"
   },
   "outputs": [
    {
     "name": "stdout",
     "output_type": "stream",
     "text": [
      "Accuracy : 0.6593762656946132\n"
     ]
    }
   ],
   "source": [
    "#SVM classifier\n",
    "from sklearn import svm\n",
    "svm_model=svm.SVC()\n",
    "svm_model.fit(x_train,y_train)\n",
    "svm_model_y=svm_model.predict(x_test)\n",
    "print(\"Accuracy :\",accuracy_score(y_test,svm_model_y))"
   ]
  },
  {
   "cell_type": "code",
   "execution_count": 22,
   "metadata": {
    "colab": {
     "base_uri": "https://localhost:8080/",
     "height": 142
    },
    "colab_type": "code",
    "id": "EmW5hn5CvFEV",
    "outputId": "20db3462-6303-45ac-c6bb-ba2beddde44b"
   },
   "outputs": [
    {
     "data": {
      "text/html": [
       "<div>\n",
       "<style scoped>\n",
       "    .dataframe tbody tr th:only-of-type {\n",
       "        vertical-align: middle;\n",
       "    }\n",
       "\n",
       "    .dataframe tbody tr th {\n",
       "        vertical-align: top;\n",
       "    }\n",
       "\n",
       "    .dataframe thead th {\n",
       "        text-align: right;\n",
       "    }\n",
       "</style>\n",
       "<table border=\"1\" class=\"dataframe\">\n",
       "  <thead>\n",
       "    <tr style=\"text-align: right;\">\n",
       "      <th>actual</th>\n",
       "      <th>False</th>\n",
       "      <th>True</th>\n",
       "    </tr>\n",
       "    <tr>\n",
       "      <th>guessed</th>\n",
       "      <th></th>\n",
       "      <th></th>\n",
       "    </tr>\n",
       "  </thead>\n",
       "  <tbody>\n",
       "    <tr>\n",
       "      <th>False</th>\n",
       "      <td>1964</td>\n",
       "      <td>980</td>\n",
       "    </tr>\n",
       "    <tr>\n",
       "      <th>True</th>\n",
       "      <td>702</td>\n",
       "      <td>1292</td>\n",
       "    </tr>\n",
       "  </tbody>\n",
       "</table>\n",
       "</div>"
      ],
      "text/plain": [
       "actual   False  True \n",
       "guessed              \n",
       "False     1964    980\n",
       "True       702   1292"
      ]
     },
     "execution_count": 22,
     "metadata": {},
     "output_type": "execute_result"
    }
   ],
   "source": [
    "guessed=pd.Series(svm_model_y)==1\n",
    "actual=y_test==1\n",
    "\n",
    "cm = pd.crosstab(guessed, actual, rownames=['guessed'], colnames=['actual'])\n",
    "cm"
   ]
  },
  {
   "cell_type": "code",
   "execution_count": 23,
   "metadata": {
    "colab": {
     "base_uri": "https://localhost:8080/",
     "height": 102
    },
    "colab_type": "code",
    "id": "9gH1Au44vRXl",
    "outputId": "41c51c28-96e3-4f8c-a076-b04eef776f96"
   },
   "outputs": [
    {
     "name": "stdout",
     "output_type": "stream",
     "text": [
      "Accuracy:  0.6593762656946132\n",
      "PPV:  0.6479438314944834\n",
      "FPR:  0.2633158289572393\n",
      "FNR:  0.43133802816901406\n",
      "\n"
     ]
    }
   ],
   "source": [
    "print_ppv_fpv(cm)"
   ]
  },
  {
   "cell_type": "markdown",
   "metadata": {
    "colab_type": "text",
    "id": "9rQORN2isEWO"
   },
   "source": [
    "### Random Forest Classification"
   ]
  },
  {
   "cell_type": "code",
   "execution_count": 24,
   "metadata": {
    "colab": {
     "base_uri": "https://localhost:8080/",
     "height": 34
    },
    "colab_type": "code",
    "id": "RHnB4_ypvqT6",
    "outputId": "d7ff0fee-1f50-4d28-f880-b20edf9c7069"
   },
   "outputs": [
    {
     "name": "stdout",
     "output_type": "stream",
     "text": [
      "Accuracy : 0.6423653300931551\n"
     ]
    }
   ],
   "source": [
    "#Random Forest classifier\n",
    "from sklearn.ensemble import RandomForestClassifier\n",
    "rf_model=RandomForestClassifier()\n",
    "rf_model.fit(x_train,y_train)\n",
    "rf_model_y=rf_model.predict(x_test)\n",
    "print(\"Accuracy :\",accuracy_score(y_test,rf_model_y))"
   ]
  },
  {
   "cell_type": "code",
   "execution_count": 25,
   "metadata": {
    "colab": {
     "base_uri": "https://localhost:8080/",
     "height": 142
    },
    "colab_type": "code",
    "id": "jK2Tzzs5vsIO",
    "outputId": "f09f5bd0-ebb6-4591-a4d3-3755f78fac3b"
   },
   "outputs": [
    {
     "data": {
      "text/html": [
       "<div>\n",
       "<style scoped>\n",
       "    .dataframe tbody tr th:only-of-type {\n",
       "        vertical-align: middle;\n",
       "    }\n",
       "\n",
       "    .dataframe tbody tr th {\n",
       "        vertical-align: top;\n",
       "    }\n",
       "\n",
       "    .dataframe thead th {\n",
       "        text-align: right;\n",
       "    }\n",
       "</style>\n",
       "<table border=\"1\" class=\"dataframe\">\n",
       "  <thead>\n",
       "    <tr style=\"text-align: right;\">\n",
       "      <th>actual</th>\n",
       "      <th>False</th>\n",
       "      <th>True</th>\n",
       "    </tr>\n",
       "    <tr>\n",
       "      <th>guessed</th>\n",
       "      <th></th>\n",
       "      <th></th>\n",
       "    </tr>\n",
       "  </thead>\n",
       "  <tbody>\n",
       "    <tr>\n",
       "      <th>False</th>\n",
       "      <td>1895</td>\n",
       "      <td>995</td>\n",
       "    </tr>\n",
       "    <tr>\n",
       "      <th>True</th>\n",
       "      <td>771</td>\n",
       "      <td>1277</td>\n",
       "    </tr>\n",
       "  </tbody>\n",
       "</table>\n",
       "</div>"
      ],
      "text/plain": [
       "actual   False  True \n",
       "guessed              \n",
       "False     1895    995\n",
       "True       771   1277"
      ]
     },
     "execution_count": 25,
     "metadata": {},
     "output_type": "execute_result"
    }
   ],
   "source": [
    "guessed=pd.Series(rf_model_y)==1\n",
    "actual=y_test==1\n",
    "\n",
    "cm = pd.crosstab(guessed, actual, rownames=['guessed'], colnames=['actual'])\n",
    "cm"
   ]
  },
  {
   "cell_type": "code",
   "execution_count": 26,
   "metadata": {
    "colab": {
     "base_uri": "https://localhost:8080/",
     "height": 102
    },
    "colab_type": "code",
    "id": "QmU-lXtnvzwx",
    "outputId": "0ceff3e8-6671-415e-80b6-d65855a57781"
   },
   "outputs": [
    {
     "name": "stdout",
     "output_type": "stream",
     "text": [
      "Accuracy:  0.6423653300931551\n",
      "PPV:  0.62353515625\n",
      "FPR:  0.2891972993248312\n",
      "FNR:  0.43794014084507044\n",
      "\n"
     ]
    }
   ],
   "source": [
    "print_ppv_fpv(cm)"
   ]
  },
  {
   "cell_type": "markdown",
   "metadata": {
    "colab_type": "text",
    "id": "b9w0FdHRhCZU"
   },
   "source": [
    "### ROC and AUC plot"
   ]
  },
  {
   "cell_type": "code",
   "execution_count": 27,
   "metadata": {
    "colab": {
     "base_uri": "https://localhost:8080/",
     "height": 265
    },
    "colab_type": "code",
    "id": "Krsgy4wLcDTP",
    "outputId": "1044fc03-08cc-4090-a51b-eb071c8be6d1"
   },
   "outputs": [
    {
     "data": {
      "image/png": "[encoded data removed]",
      "text/plain": [
       "<Figure size 432x288 with 1 Axes>"
      ]
     },
     "metadata": {
      "needs_background": "light"
     },
     "output_type": "display_data"
    }
   ],
   "source": [
    "\n",
    "from sklearn import metrics\n",
    "import matplotlib.pyplot as plt\n",
    "\n",
    "\n",
    "mlp_fpr, mlp_tpr, _ = metrics.roc_curve(y_test,mlp_model_y)\n",
    "mlp_auc = metrics.roc_auc_score(y_test,mlp_model_y)\n",
    "plt.plot(mlp_fpr,mlp_tpr,label=\"MLP, auc=\"+str(mlp_auc))\n",
    "\n",
    "gnb_fpr, gnb_tpr, _ = metrics.roc_curve(y_test,gnb_ymodel)\n",
    "gnb_auc = metrics.roc_auc_score(y_test, gnb_ymodel)\n",
    "plt.plot(gnb_fpr,gnb_tpr,label=\"Gussian NB, auc=\"+str(gnb_auc))\n",
    "\n",
    "svm_fpr, svm_tpr, _ = metrics.roc_curve(y_test,svm_model_y)\n",
    "svm_auc = metrics.roc_auc_score(y_test, svm_model_y)\n",
    "plt.plot(svm_fpr,svm_tpr,label=\"SVM, auc=\"+str(svm_auc))\n",
    "\n",
    "rf_fpr, rf_tpr, _ = metrics.roc_curve(y_test,rf_model_y)\n",
    "rf_auc = metrics.roc_auc_score(y_test, rf_model_y)\n",
    "plt.plot(rf_fpr,rf_tpr,label=\"Rain Forest, auc=\"+str(rf_auc))\n",
    "\n",
    "\n",
    "plt.legend(loc=4)\n",
    "plt.show()\n"
   ]
  },
  {
   "cell_type": "markdown",
   "metadata": {
    "colab_type": "text",
    "id": "HTpvVAXcwzYs"
   },
   "source": [
    "## Fairness Classifier : Racial Bias\n",
    "there is a significant difference in Compas scores between races or not?!\n",
    "\n",
    "To check this we need to change some variables into factors, and run a logistic regression, comparing low scores to high scores.\n",
    "\n"
   ]
  },
  {
   "cell_type": "markdown",
   "metadata": {
    "colab_type": "text",
    "id": "3_52pB6Qg9T_"
   },
   "source": []
  },
  {
   "cell_type": "code",
   "execution_count": 28,
   "metadata": {
    "colab": {},
    "colab_type": "code",
    "id": "ktp__JSNwv0i"
   },
   "outputs": [],
   "source": [
    "from sklearn.linear_model import LogisticRegression\n",
    "lr = LogisticRegression(solver='lbfgs')\n",
    "\n",
    "#Convert categorical variable into dummy/indicator variables.\n",
    "#Get dataframes\n",
    "\n",
    "df_crime = pd.get_dummies(df['c_charge_degree'],prefix='crimefactor',drop_first=True)\n",
    "df_age = pd.get_dummies(df['age_cat'],prefix='age')\n",
    "df_race = pd.get_dummies(df['race'],prefix='race')\n",
    "df_gender = pd.get_dummies(df['sex'],prefix='sex',drop_first=True)\n",
    "df_score = pd.get_dummies(df['score_text'] != 'Low',prefix='score_factor',drop_first=True)\n",
    "\n",
    "#Concatenate pandas objects along a particular axis with optional set logic along the other axes.\n",
    "#axis=1 in our case, we use column, instead of index\n",
    "df_lr = pd.concat([df_crime, df_age,df_race,df_gender,df['priors_count'],df['two_year_recid']],axis=1)"
   ]
  },
  {
   "cell_type": "code",
   "execution_count": 29,
   "metadata": {
    "colab": {
     "base_uri": "https://localhost:8080/",
     "height": 102
    },
    "colab_type": "code",
    "id": "Rx3My-Uzy99L",
    "outputId": "bad05689-606b-4cae-9aa0-df422f6f66ae"
   },
   "outputs": [
    {
     "data": {
      "text/plain": [
       "LogisticRegression(C=1.0, class_weight=None, dual=False, fit_intercept=True,\n",
       "                   intercept_scaling=1, l1_ratio=None, max_iter=100,\n",
       "                   multi_class='auto', n_jobs=None, penalty='l2',\n",
       "                   random_state=None, solver='lbfgs', tol=0.0001, verbose=0,\n",
       "                   warm_start=False)"
      ]
     },
     "execution_count": 29,
     "metadata": {},
     "output_type": "execute_result"
    }
   ],
   "source": [
    "lr.fit(df_lr,df_score.values.ravel())"
   ]
  },
  {
   "cell_type": "code",
   "execution_count": 30,
   "metadata": {
    "colab": {
     "base_uri": "https://localhost:8080/",
     "height": 255
    },
    "colab_type": "code",
    "id": "615GJmc_zaLD",
    "outputId": "c20deef2-912a-4826-9b23-24c589a37811"
   },
   "outputs": [
    {
     "name": "stdout",
     "output_type": "stream",
     "text": [
      "-1.335 (Intercept)\n",
      "-0.310 crimefactor_M\n",
      "0.018 age_25 - 45\n",
      "-1.328 age_Greater than 45\n",
      "1.319 age_Less than 25\n",
      "0.490 race_African-American\n",
      "-0.201 race_Asian\n",
      "0.013 race_Caucasian\n",
      "-0.409 race_Hispanic\n",
      "0.909 race_Native American\n",
      "-0.793 race_Other\n",
      "-0.219 sex_Male\n",
      "0.268 priors_count\n",
      "0.683 two_year_recid\n"
     ]
    }
   ],
   "source": [
    "cols = np.concatenate([df_crime.columns.values, \n",
    "                df_age.columns.values,\n",
    "                df_race.columns.values,\n",
    "                df_gender.columns.values,\n",
    "                ['priors_count'],\n",
    "                ['two_year_recid']\n",
    "               ])\n",
    "\n",
    "#Interpreting the Intercept in a Regression\n",
    "print('%.3f' % lr.intercept_, '(Intercept)') \n",
    "for i,j in zip(cols, lr.coef_[0]): print('%.3f' % j, i)"
   ]
  },
  {
   "cell_type": "markdown",
   "metadata": {
    "colab_type": "text",
    "id": "ex_gQZkn0Pdm"
   },
   "source": [
    "Black defendants are 44% more likely than white defendants to receive a higher score correcting for the seriousness of their crime, previous arrests, and future criminal behavior.\n"
   ]
  },
  {
   "cell_type": "code",
   "execution_count": 31,
   "metadata": {
    "colab": {
     "base_uri": "https://localhost:8080/",
     "height": 34
    },
    "colab_type": "code",
    "id": "LDQLUx_02Zgr",
    "outputId": "c5f716f1-440a-4093-dd44-b36228ec3c47"
   },
   "outputs": [
    {
     "name": "stdout",
     "output_type": "stream",
     "text": [
      "Black defendants: 1.4423\n"
     ]
    }
   ],
   "source": [
    "control = np.exp(-1.335) / (1 + np.exp(-1.335))\n",
    "black= np.exp(0.490) / (1 - control + (control * np.exp(0.490)))\n",
    "print('Black defendants: %.4f' % black)"
   ]
  },
  {
   "cell_type": "markdown",
   "metadata": {
    "colab_type": "text",
    "id": "wAV0GqM_cL8J"
   },
   "source": [
    "Let's look at the proportion of people who are re-arrested in each decile score."
   ]
  },
  {
   "cell_type": "code",
   "execution_count": 32,
   "metadata": {
    "colab": {
     "base_uri": "https://localhost:8080/",
     "height": 317
    },
    "colab_type": "code",
    "id": "kbMIiSnZckR2",
    "outputId": "93dea58b-81eb-4c2c-9a02-ff16505e1f30"
   },
   "outputs": [
    {
     "name": "stdout",
     "output_type": "stream",
     "text": [
      "probability of recidivism by decile\n"
     ]
    },
    {
     "data": {
      "text/plain": [
       "<matplotlib.axes._subplots.AxesSubplot at 0x7f261446feb8>"
      ]
     },
     "execution_count": 32,
     "metadata": {},
     "output_type": "execute_result"
    },
    {
     "data": {
      "image/png": "[encoded data removed]",
      "text/plain": [
       "<Figure size 432x288 with 1 Axes>"
      ]
     },
     "metadata": {
      "needs_background": "light"
     },
     "output_type": "display_data"
    }
   ],
   "source": [
    "print('probability of recidivism by decile')\n",
    "df.groupby('decile_score').mean()['two_year_recid'].plot(kind='bar')"
   ]
  },
  {
   "cell_type": "code",
   "execution_count": 33,
   "metadata": {
    "colab": {
     "base_uri": "https://localhost:8080/",
     "height": 317
    },
    "colab_type": "code",
    "id": "zqM5tyz1dBor",
    "outputId": "fba1cc47-d58f-4cfa-e874-f6024ab25a09"
   },
   "outputs": [
    {
     "name": "stdout",
     "output_type": "stream",
     "text": [
      "probability of recidivism by decile and race\n"
     ]
    },
    {
     "data": {
      "text/plain": [
       "<matplotlib.axes._subplots.AxesSubplot at 0x7f26143a0358>"
      ]
     },
     "execution_count": 33,
     "metadata": {},
     "output_type": "execute_result"
    },
    {
     "data": {
      "image/png": "[encoded data removed]",
      "text/plain": [
       "<Figure size 432x288 with 1 Axes>"
      ]
     },
     "metadata": {
      "needs_background": "light"
     },
     "output_type": "display_data"
    }
   ],
   "source": [
    "print('probability of recidivism by decile and race')\n",
    "b = df[df.race=='African-American'].groupby(['decile_score']).mean()['two_year_recid']\n",
    "w = df[df.race=='Caucasian'].groupby(['decile_score']).mean()['two_year_recid']\n",
    "\n",
    "a = pd.concat([w,b], axis=1)\n",
    "a.columns = ['White','Black']\n",
    "a.plot.bar()"
   ]
  },
  {
   "cell_type": "markdown",
   "metadata": {
    "colab_type": "text",
    "id": "bYJar4F2eePj"
   },
   "source": [
    "Using this binary prediction variable lets us compute a confusion matrix for the COMPAS algorithm."
   ]
  },
  {
   "cell_type": "code",
   "execution_count": 34,
   "metadata": {
    "colab": {
     "base_uri": "https://localhost:8080/",
     "height": 159
    },
    "colab_type": "code",
    "id": "KS5IkeGNej1S",
    "outputId": "0df6fa3b-a6f2-4966-f0ed-bab0d650c1c9"
   },
   "outputs": [
    {
     "name": "stdout",
     "output_type": "stream",
     "text": [
      "COMPAS recidivism confusion matrix\n"
     ]
    },
    {
     "data": {
      "text/html": [
       "<div>\n",
       "<style scoped>\n",
       "    .dataframe tbody tr th:only-of-type {\n",
       "        vertical-align: middle;\n",
       "    }\n",
       "\n",
       "    .dataframe tbody tr th {\n",
       "        vertical-align: top;\n",
       "    }\n",
       "\n",
       "    .dataframe thead th {\n",
       "        text-align: right;\n",
       "    }\n",
       "</style>\n",
       "<table border=\"1\" class=\"dataframe\">\n",
       "  <thead>\n",
       "    <tr style=\"text-align: right;\">\n",
       "      <th>guessed_recid</th>\n",
       "      <th>False</th>\n",
       "      <th>True</th>\n",
       "    </tr>\n",
       "    <tr>\n",
       "      <th>actual_recid</th>\n",
       "      <th></th>\n",
       "      <th></th>\n",
       "    </tr>\n",
       "  </thead>\n",
       "  <tbody>\n",
       "    <tr>\n",
       "      <th>False</th>\n",
       "      <td>2345</td>\n",
       "      <td>1018</td>\n",
       "    </tr>\n",
       "    <tr>\n",
       "      <th>True</th>\n",
       "      <td>1076</td>\n",
       "      <td>1733</td>\n",
       "    </tr>\n",
       "  </tbody>\n",
       "</table>\n",
       "</div>"
      ],
      "text/plain": [
       "guessed_recid  False  True \n",
       "actual_recid               \n",
       "False           2345   1018\n",
       "True            1076   1733"
      ]
     },
     "execution_count": 34,
     "metadata": {},
     "output_type": "execute_result"
    }
   ],
   "source": [
    "print('COMPAS recidivism confusion matrix')\n",
    "df['guessed_recid'] = df['score_text'] != 'Low'\n",
    "df['actual_recid'] = df.two_year_recid == 1\n",
    "cm = pd.crosstab(df.actual_recid, df.guessed_recid)\n",
    "cm # for \"confusion matrix\""
   ]
  },
  {
   "cell_type": "code",
   "execution_count": 35,
   "metadata": {
    "colab": {},
    "colab_type": "code",
    "id": "fZeYlqDDfhQ-"
   },
   "outputs": [],
   "source": [
    "# The usual definitions. First index is predicted, second is actual\n",
    "TN = cm[False][False]\n",
    "TP = cm[True][True]\n",
    "FN = cm[False][True]\n",
    "FP = cm[True][False]"
   ]
  },
  {
   "cell_type": "code",
   "execution_count": 36,
   "metadata": {
    "colab": {
     "base_uri": "https://localhost:8080/",
     "height": 51
    },
    "colab_type": "code",
    "id": "3p1Ud2sLflil",
    "outputId": "dec5daf4-e220-470f-bafa-c391d27e26bd"
   },
   "outputs": [
    {
     "name": "stdout",
     "output_type": "stream",
     "text": [
      "PPV - positive predictive value\n"
     ]
    },
    {
     "data": {
      "text/plain": [
       "0.6299527444565612"
      ]
     },
     "execution_count": 36,
     "metadata": {},
     "output_type": "execute_result"
    }
   ],
   "source": [
    "print('PPV - positive predictive value') # getting arrested again within two years\n",
    "TP / (TP + FP)"
   ]
  },
  {
   "cell_type": "code",
   "execution_count": 37,
   "metadata": {
    "colab": {
     "base_uri": "https://localhost:8080/",
     "height": 51
    },
    "colab_type": "code",
    "id": "Qo-_QNgfgP-j",
    "outputId": "f4987f96-e68a-48c7-8a80-39e380f8ad00"
   },
   "outputs": [
    {
     "name": "stdout",
     "output_type": "stream",
     "text": [
      "FPR - false positive rate\n"
     ]
    },
    {
     "data": {
      "text/plain": [
       "0.30270591733571217"
      ]
     },
     "execution_count": 37,
     "metadata": {},
     "output_type": "execute_result"
    }
   ],
   "source": [
    "print('FPR - false positive rate') #those who did not go on to be re-arrested\n",
    "FP / (FP + TN)"
   ]
  },
  {
   "cell_type": "code",
   "execution_count": 38,
   "metadata": {
    "colab": {
     "base_uri": "https://localhost:8080/",
     "height": 68
    },
    "colab_type": "code",
    "id": "O_24ZzZNhkRi",
    "outputId": "22793895-1dd3-41d2-f07e-f5b6ff842bc7"
   },
   "outputs": [
    {
     "name": "stdout",
     "output_type": "stream",
     "text": [
      "total number of true positive and negative cases\n",
      "2809\n",
      "3363\n"
     ]
    }
   ],
   "source": [
    "print('total number of true positive and negative cases')\n",
    "P = TP + FN\n",
    "N = TN + FP\n",
    "\n",
    "print(P)\n",
    "print(N)"
   ]
  },
  {
   "cell_type": "code",
   "execution_count": 39,
   "metadata": {
    "colab": {
     "base_uri": "https://localhost:8080/",
     "height": 34
    },
    "colab_type": "code",
    "id": "V8HsSB4riBvQ",
    "outputId": "6ebb2095-f7f3-43e5-ebd4-abbed25aac21"
   },
   "outputs": [
    {
     "data": {
      "text/plain": [
       "0.30270591733571217"
      ]
     },
     "execution_count": 39,
     "metadata": {},
     "output_type": "execute_result"
    }
   ],
   "source": [
    "FP / N #FPR"
   ]
  },
  {
   "cell_type": "markdown",
   "metadata": {
    "colab_type": "text",
    "id": "mZYQpz5TiR7L"
   },
   "source": [
    "False Negative Rate (FNR) - counts those who were classified as low risk, as a fraction of those who were re-arrested."
   ]
  },
  {
   "cell_type": "code",
   "execution_count": 40,
   "metadata": {
    "colab": {
     "base_uri": "https://localhost:8080/",
     "height": 51
    },
    "colab_type": "code",
    "id": "DxdjluYoiKUP",
    "outputId": "89b0f61e-cdb2-41f8-e663-3730ada7621e"
   },
   "outputs": [
    {
     "name": "stdout",
     "output_type": "stream",
     "text": [
      "FNR\n"
     ]
    },
    {
     "data": {
      "text/plain": [
       "0.38305446778212887"
      ]
     },
     "execution_count": 40,
     "metadata": {},
     "output_type": "execute_result"
    }
   ],
   "source": [
    "print('FNR')\n",
    "FN / (FN + TP)"
   ]
  },
  {
   "cell_type": "code",
   "execution_count": 41,
   "metadata": {
    "colab": {
     "base_uri": "https://localhost:8080/",
     "height": 391
    },
    "colab_type": "code",
    "id": "WnLu4mZdjPP6",
    "outputId": "4b2871fe-1be3-456d-dcfa-c332c729f34a"
   },
   "outputs": [
    {
     "name": "stdout",
     "output_type": "stream",
     "text": [
      "White\n",
      "actual   False  True \n",
      "guessed              \n",
      "False      999    408\n",
      "True       282    414\n",
      "\n",
      "Accuracy:  0.6718972895863052\n",
      "PPV:  0.5948275862068966\n",
      "FPR:  0.22014051522248243\n",
      "FNR:  0.49635036496350365\n",
      "\n",
      "Black\n",
      "actual   False  True \n",
      "guessed              \n",
      "False      873    473\n",
      "True       641   1188\n",
      "\n",
      "Accuracy:  0.6491338582677165\n",
      "PPV:  0.6495352651722253\n",
      "FPR:  0.4233817701453104\n",
      "FNR:  0.2847682119205298\n",
      "\n"
     ]
    }
   ],
   "source": [
    "print('White')\n",
    "subset = df[df.race == 'Caucasian']\n",
    "print_metrics(subset.guessed_recid, subset.actual_recid)\n",
    "\n",
    "print('Black')\n",
    "subset = df[df.race == 'African-American']\n",
    "print_metrics(subset.guessed_recid, subset.actual_recid)\n"
   ]
  },
  {
   "cell_type": "markdown",
   "metadata": {
    "colab_type": "text",
    "id": "tJuRpCmzjpMX"
   },
   "source": [
    "the **False Positive Rate** is substantially higher for black defendant"
   ]
  },
  {
   "cell_type": "markdown",
   "metadata": {
    "colab_type": "text",
    "id": "OVC20U_kkPW6"
   },
   "source": [
    "##Our predictor using Logistic regression"
   ]
  },
  {
   "cell_type": "markdown",
   "metadata": {
    "colab_type": "text",
    "id": "D2n9IYu1kbkZ"
   },
   "source": [
    "We gonna use:\n",
    "* Age\n",
    "* Sex\n",
    "* Felony or Misdemeanor charge (c_charge_degree)\n",
    "* Number of prior arrests (c_priors_count)\n",
    "\n",
    "And we'll try this both with and without race as a predictive factor, too."
   ]
  },
  {
   "cell_type": "code",
   "execution_count": 42,
   "metadata": {
    "colab": {},
    "colab_type": "code",
    "id": "CmvIjJR5k1K2"
   },
   "outputs": [],
   "source": [
    "# build up dummy variables for age, race, gender\n",
    "features = pd.concat(\n",
    "    [pd.get_dummies(df.age_cat, prefix='age'),\n",
    "     pd.get_dummies(df.sex, prefix='sex'),\n",
    "     pd.get_dummies(df.c_charge_degree, prefix='degree'), # felony or misdemeanor charge ('f' or 'm')\n",
    "     df.priors_count],\n",
    "    axis=1)\n",
    "\n",
    "# We should have one less dummy variable than the number of categories\n",
    "features.drop(['age_25 - 45', 'sex_Female', 'degree_M'], axis=1, inplace=True)\n",
    "\n",
    "# Try to predict whether someone is re-arrested\n",
    "target = df.two_year_recid"
   ]
  },
  {
   "cell_type": "code",
   "execution_count": 43,
   "metadata": {
    "colab": {
     "base_uri": "https://localhost:8080/"
    },
    "colab_type": "code",
    "id": "YRrZI4SNlSGM",
    "outputId": "b3e36a59-814f-4fd0-a640-ac19d3c7b68a"
   },
   "outputs": [
    {
     "data": {
      "text/plain": [
       "LogisticRegression(C=1.0, class_weight=None, dual=False, fit_intercept=True,\n",
       "                   intercept_scaling=1, l1_ratio=None, max_iter=100,\n",
       "                   multi_class='auto', n_jobs=None, penalty='l2',\n",
       "                   random_state=None, solver='lbfgs', tol=0.0001, verbose=0,\n",
       "                   warm_start=False)"
      ]
     },
     "execution_count": 43,
     "metadata": {},
     "output_type": "execute_result"
    }
   ],
   "source": [
    "x = features.values\n",
    "y = target.values\n",
    "lr = LogisticRegression()\n",
    "lr.fit(x,y)"
   ]
  },
  {
   "cell_type": "code",
   "execution_count": 44,
   "metadata": {
    "colab": {
     "base_uri": "https://localhost:8080/"
    },
    "colab_type": "code",
    "id": "OgoN3r5vlajP",
    "outputId": "9ce37621-59c8-46f4-d893-a35c5f1a321e"
   },
   "outputs": [
    {
     "name": "stdout",
     "output_type": "stream",
     "text": [
      "Examine regression coefficients\n"
     ]
    },
    {
     "data": {
      "text/html": [
       "<div>\n",
       "<style scoped>\n",
       "    .dataframe tbody tr th:only-of-type {\n",
       "        vertical-align: middle;\n",
       "    }\n",
       "\n",
       "    .dataframe tbody tr th {\n",
       "        vertical-align: top;\n",
       "    }\n",
       "\n",
       "    .dataframe thead th {\n",
       "        text-align: right;\n",
       "    }\n",
       "</style>\n",
       "<table border=\"1\" class=\"dataframe\">\n",
       "  <thead>\n",
       "    <tr style=\"text-align: right;\">\n",
       "      <th></th>\n",
       "      <th>age_Greater than 45</th>\n",
       "      <th>age_Less than 25</th>\n",
       "      <th>sex_Male</th>\n",
       "      <th>degree_F</th>\n",
       "      <th>priors_count</th>\n",
       "    </tr>\n",
       "  </thead>\n",
       "  <tbody>\n",
       "    <tr>\n",
       "      <th>0</th>\n",
       "      <td>0.505402</td>\n",
       "      <td>2.10855</td>\n",
       "      <td>1.403791</td>\n",
       "      <td>1.253803</td>\n",
       "      <td>1.185499</td>\n",
       "    </tr>\n",
       "  </tbody>\n",
       "</table>\n",
       "</div>"
      ],
      "text/plain": [
       "   age_Greater than 45  age_Less than 25  sex_Male  degree_F  priors_count\n",
       "0             0.505402           2.10855  1.403791  1.253803      1.185499"
      ]
     },
     "execution_count": 44,
     "metadata": {},
     "output_type": "execute_result"
    }
   ],
   "source": [
    "print('Examine regression coefficients')\n",
    "coeffs = pd.DataFrame(np.exp(lr.coef_), columns=features.columns)\n",
    "coeffs"
   ]
  },
  {
   "cell_type": "markdown",
   "metadata": {
    "colab_type": "text",
    "id": "s8CC-gMKl0rR"
   },
   "source": [
    "The model thinks that:\n",
    "* being young (<25) more than doubles your odds of recidivism\n",
    "* but being >45 years old makes half as likely\n",
    "* being male increases your odds by 40%\n",
    "* every prior arrest increases your odds by 18%\n",
    "\n",
    "Check our model through the same tests as we used on the COMPAS score to see how well this predictor does."
   ]
  },
  {
   "cell_type": "code",
   "execution_count": 45,
   "metadata": {
    "colab": {
     "base_uri": "https://localhost:8080/"
    },
    "colab_type": "code",
    "id": "PVQK7kZSmXSo",
    "outputId": "ce4ae8e7-ad80-4f44-9ba1-8e61898a5768"
   },
   "outputs": [
    {
     "data": {
      "text/html": [
       "<div>\n",
       "<style scoped>\n",
       "    .dataframe tbody tr th:only-of-type {\n",
       "        vertical-align: middle;\n",
       "    }\n",
       "\n",
       "    .dataframe tbody tr th {\n",
       "        vertical-align: top;\n",
       "    }\n",
       "\n",
       "    .dataframe thead th {\n",
       "        text-align: right;\n",
       "    }\n",
       "</style>\n",
       "<table border=\"1\" class=\"dataframe\">\n",
       "  <thead>\n",
       "    <tr style=\"text-align: right;\">\n",
       "      <th>actual</th>\n",
       "      <th>False</th>\n",
       "      <th>True</th>\n",
       "    </tr>\n",
       "    <tr>\n",
       "      <th>guessed</th>\n",
       "      <th></th>\n",
       "      <th></th>\n",
       "    </tr>\n",
       "  </thead>\n",
       "  <tbody>\n",
       "    <tr>\n",
       "      <th>False</th>\n",
       "      <td>2568</td>\n",
       "      <td>1239</td>\n",
       "    </tr>\n",
       "    <tr>\n",
       "      <th>True</th>\n",
       "      <td>795</td>\n",
       "      <td>1570</td>\n",
       "    </tr>\n",
       "  </tbody>\n",
       "</table>\n",
       "</div>"
      ],
      "text/plain": [
       "actual   False  True \n",
       "guessed              \n",
       "False     2568   1239\n",
       "True       795   1570"
      ]
     },
     "execution_count": 45,
     "metadata": {},
     "output_type": "execute_result"
    }
   ],
   "source": [
    "# Crosstab for our predictive model\n",
    "y_pred = lr.predict(x)\n",
    "guessed=pd.Series(y_pred)==1\n",
    "\n",
    "actual=df.two_year_recid==1\n",
    "\n",
    "cm = pd.crosstab(guessed, actual, rownames=['guessed'], colnames=['actual'])\n",
    "cm"
   ]
  },
  {
   "cell_type": "code",
   "execution_count": 46,
   "metadata": {
    "colab": {
     "base_uri": "https://localhost:8080/"
    },
    "colab_type": "code",
    "id": "LMpbJmo6mtAN",
    "outputId": "a1eed953-e1b2-4c33-c308-36ee1e71a983"
   },
   "outputs": [
    {
     "name": "stdout",
     "output_type": "stream",
     "text": [
      "Accuracy:  0.670447180816591\n",
      "PPV:  0.6638477801268499\n",
      "FPR:  0.23639607493309545\n",
      "FNR:  0.4410822356710573\n",
      "\n"
     ]
    }
   ],
   "source": [
    "print_ppv_fpv(cm)"
   ]
  },
  {
   "cell_type": "code",
   "execution_count": 47,
   "metadata": {
    "colab": {
     "base_uri": "https://localhost:8080/"
    },
    "colab_type": "code",
    "id": "Cj8KMvjQmwZc",
    "outputId": "fb6d570e-286d-4660-9522-e7d0f3c1d8d0"
   },
   "outputs": [
    {
     "name": "stdout",
     "output_type": "stream",
     "text": [
      "White\n",
      "actual   False  True \n",
      "guessed              \n",
      "False     1068    494\n",
      "True       213    328\n",
      "\n",
      "Accuracy:  0.6638135996195911\n",
      "PPV:  0.6062846580406654\n",
      "FPR:  0.16627634660421545\n",
      "FNR:  0.6009732360097324\n",
      "\n",
      "Black\n",
      "actual   False  True \n",
      "guessed              \n",
      "False     1026    564\n",
      "True       488   1097\n",
      "\n",
      "Accuracy:  0.6686614173228347\n",
      "PPV:  0.6921135646687697\n",
      "FPR:  0.32232496697490093\n",
      "FNR:  0.3395544852498495\n",
      "\n"
     ]
    }
   ],
   "source": [
    "print('White')\n",
    "subset = df.race == 'Caucasian'\n",
    "print_metrics(guessed[subset], actual[subset])\n",
    "\n",
    "print('Black')\n",
    "subset = df.race == 'African-American'\n",
    "print_metrics(guessed[subset], actual[subset])"
   ]
  },
  {
   "cell_type": "markdown",
   "metadata": {
    "colab_type": "text",
    "id": "Xj-Y0cIynJWN"
   },
   "source": [
    "Better results, but still twice FPR for blacks than whites.\n",
    "\n",
    "Now, we will try to equalize the **false positive rates** between white and non-white defendants.\n",
    "\n",
    "We're going to use **race** to set a different threshold for both defendants (blacks, whites)."
   ]
  },
  {
   "cell_type": "code",
   "execution_count": 48,
   "metadata": {
    "colab": {},
    "colab_type": "code",
    "id": "JmZF7tMwIDMR"
   },
   "outputs": [],
   "source": [
    "def predict_thresh_grp(clf, ft, a_thresh, b_thresh, use_b):\n",
    "    # calculate probabilities from our classifier\n",
    "    proba = clf.predict_proba(ft)[:,1]\n",
    "    \n",
    "    # Create one Series which is True where the probabilities are bigger than a_thres, \n",
    "    # and another for b_thresh\n",
    "    # Then combine them, selecting values from either Series according to use_b\n",
    "    guess = pd.Series(proba > a_thresh)\n",
    "    guess.loc[use_b] = pd.Series(proba > b_thresh)\n",
    "    return guess"
   ]
  },
  {
   "cell_type": "markdown",
   "metadata": {
    "colab_type": "text",
    "id": "khAgnMKNI7ti"
   },
   "source": [
    "Tried different threshold to get result:"
   ]
  },
  {
   "cell_type": "code",
   "execution_count": 49,
   "metadata": {
    "colab": {
     "base_uri": "https://localhost:8080/"
    },
    "colab_type": "code",
    "id": "noyNrhW_I6_1",
    "outputId": "da197aa7-45d6-438d-d9b1-4fed74a998bb"
   },
   "outputs": [
    {
     "name": "stdout",
     "output_type": "stream",
     "text": [
      "Everyone\n",
      "actual   False  True \n",
      "guessed              \n",
      "False     2775   1538\n",
      "True       588   1271\n",
      "\n",
      "Accuracy:  0.6555411535968891\n",
      "PPV:  0.6837009144701452\n",
      "FPR:  0.17484388938447815\n",
      "FNR:  0.5475258098967604\n",
      "\n",
      "White\n",
      "actual   False  True \n",
      "guessed              \n",
      "False     1061    493\n",
      "True       220    329\n",
      "\n",
      "Accuracy:  0.6609605325725154\n",
      "PPV:  0.599271402550091\n",
      "FPR:  0.1717408274785324\n",
      "FNR:  0.5997566909975669\n",
      "\n",
      "Black\n",
      "actual   False  True \n",
      "guessed              \n",
      "False     1243    864\n",
      "True       271    797\n",
      "\n",
      "Accuracy:  0.6425196850393701\n",
      "PPV:  0.7462546816479401\n",
      "FPR:  0.17899603698811095\n",
      "FNR:  0.5201685731487056\n",
      "\n"
     ]
    }
   ],
   "source": [
    "guessed = predict_thresh_grp(lr, x, 0.495, 0.57, df.race=='African-American')\n",
    "\n",
    "print('Everyone')\n",
    "print_metrics(guessed, actual)\n",
    "\n",
    "print('White')\n",
    "subset = df.race == 'Caucasian'\n",
    "print_metrics(guessed[subset], actual[subset])\n",
    "\n",
    "print('Black')\n",
    "subset = df.race == 'African-American'\n",
    "print_metrics(guessed[subset], actual[subset])"
   ]
  },
  {
   "cell_type": "markdown",
   "metadata": {
    "colab_type": "text",
    "id": "2pDDbGtPNeeJ"
   },
   "source": [
    "In this case we raised the threshold for blacks from **0.5 to 0.7**, and reduced threshold from **0.5 to 0.495** for whites, which equalizes the FPR at about **17%**. \n",
    "\n",
    "The overall accuracy fell only slightly from **67%** to **65%**, and the accuracy for blacks fell from **66%** to **64%**, for whites it's same **66%**. \n",
    "\n",
    "But the PPV for blacks, the probability that someone who is categorized as high risk will actually be re-arrested within two years, increased from **69%** to **74%**, because the higher threshold removes some of the people who were not particularly risky from the high risk group. The cost is a higher false negative rate for blacks, which changed from **33%** to **52%**.\n"
   ]
  }
 ],
 "metadata": {
  "accelerator": "GPU",
  "colab": {
   "collapsed_sections": [],
   "name": "Fairness in Classification on the COMPAS dataset.ipynb",
   "provenance": [],
   "toc_visible": true
  },
  "kernelspec": {
   "display_name": "Python 3",
   "language": "python",
   "name": "python3"
  },
  "language_info": {
   "codemirror_mode": {
    "name": "ipython",
    "version": 3
   },
   "file_extension": ".py",
   "mimetype": "text/x-python",
   "name": "python",
   "nbconvert_exporter": "python",
   "pygments_lexer": "ipython3",
   "version": "3.6.9"
  }
 },
 "nbformat": 4,
 "nbformat_minor": 1
}
